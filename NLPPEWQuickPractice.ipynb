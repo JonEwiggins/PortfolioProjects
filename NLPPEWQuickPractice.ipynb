{
  "nbformat": 4,
  "nbformat_minor": 0,
  "metadata": {
    "colab": {
      "provenance": [],
      "authorship_tag": "ABX9TyMD9EW9d9J9cJ54JcfdXwkj"
    },
    "kernelspec": {
      "name": "python3",
      "display_name": "Python 3"
    },
    "language_info": {
      "name": "python"
    }
  },
  "cells": [
    {
      "cell_type": "markdown",
      "source": [
        "This is a quick forway into basic NLP. I recently read a Pew report discussing global views on the state of respondents' nations in comparison to fifty years ago. Being aware of and interested in, though not extrememly experienced with, Natural Language Processing, I decided to look into what this would say about survey reports and the questions being asked. There is a wide perception that news media should be objective and neutral. Would reporting on global attitudes be able to maintain this tone when discussing people's subjective feelings? How might the design of the question factor into this? At the end, I will attempt some rewritings of the question to see how this might be different. The sentiment analysis runs on a scale from negative one, most negative, to positive one, most positive, with zero being perfectly neutral. \n",
        "\n",
        "h/t to NeuralNine on YouTube for his quick introduction and walkthrough with sentiment analysis using Python, NLTK, and TextBlob. \n",
        "\n",
        "Link to NeuralNine's video: [Simple Sentiment Text Analysis in Python](https://www.youtube.com/watch?v=tXuvh5_Xyrw)\n",
        "\n",
        "Link to the article: [Worldwide, People Divided on Whether Life Today Is Better Than in the Past](https://www.pewresearch.org/global/2017/12/05/worldwide-people-divided-on-whether-life-today-is-better-than-in-the-past/)"
      ],
      "metadata": {
        "id": "8GXpouSon4Mx"
      }
    },
    {
      "cell_type": "markdown",
      "source": [
        "First, we begin with a trial run based on NeuralNine's introduction to NLTK, TextBlob and Newspaper..."
      ],
      "metadata": {
        "id": "El150_sOpVa6"
      }
    },
    {
      "cell_type": "code",
      "source": [
        "##Installing necessary NLP libraries\n",
        "!pip install nltk \n",
        "!pip install textblob \n",
        "!pip install newspaper3k"
      ],
      "metadata": {
        "id": "tYN0xbQDc6vF"
      },
      "execution_count": null,
      "outputs": []
    },
    {
      "cell_type": "code",
      "source": [
        "##Importing NLP Libraries\n",
        "import nltk\n",
        "nltk.download('punkt')\n",
        "from textblob import TextBlob\n",
        "from newspaper import Article"
      ],
      "metadata": {
        "colab": {
          "base_uri": "https://localhost:8080/"
        },
        "id": "NcVlAswBdGb7",
        "outputId": "5967fb4b-2653-407b-a2bb-ca25b43fd639"
      },
      "execution_count": 13,
      "outputs": [
        {
          "output_type": "stream",
          "name": "stderr",
          "text": [
            "[nltk_data] Downloading package punkt to /root/nltk_data...\n",
            "[nltk_data]   Unzipping tokenizers/punkt.zip.\n"
          ]
        }
      ]
    },
    {
      "cell_type": "code",
      "source": [
        "##Trial URL\n",
        "url = 'https://en.wikipedia.org/wiki/Mathematics'\n",
        "article = Article(url)"
      ],
      "metadata": {
        "id": "qMHq-ZKid32G"
      },
      "execution_count": 7,
      "outputs": []
    },
    {
      "cell_type": "code",
      "source": [
        "##Downloading article and preprocessing for NLP\n",
        "article.download()\n",
        "article.parse()\n",
        "article.nlp()"
      ],
      "metadata": {
        "id": "L9IGt5heeENA"
      },
      "execution_count": 14,
      "outputs": []
    },
    {
      "cell_type": "code",
      "source": [
        "##Setting 'text' to full-length article from Wikipedia\n",
        "text = article.text\n",
        "print(text)"
      ],
      "metadata": {
        "id": "HfXnmNiMe070"
      },
      "execution_count": null,
      "outputs": []
    },
    {
      "cell_type": "code",
      "source": [
        "##Setting up a second variable as a summary of the Wikipedia 'Mathematics' article -- We'll compare how they rate later\n",
        "textsum = article.summary\n",
        "print(textsum)"
      ],
      "metadata": {
        "id": "f9nrePMufCXJ"
      },
      "execution_count": null,
      "outputs": []
    },
    {
      "cell_type": "markdown",
      "source": [
        "Here I diverge from the video because I wanted to see if there would be a difference between the summary of the article and the fuller article in terms of sentiment analysis. I hypothesize that the inclusion of more text would have a tendency to dilute the sentiment an article contains. "
      ],
      "metadata": {
        "id": "eyaPBeF2pk5f"
      }
    },
    {
      "cell_type": "code",
      "source": [
        "##Full length article sentiment analysis\n",
        "blob1 = TextBlob(text)\n",
        "sentiment1 = blob1.sentiment.polarity\n",
        "print(sentiment1)"
      ],
      "metadata": {
        "colab": {
          "base_uri": "https://localhost:8080/"
        },
        "id": "3F4efK-gffTH",
        "outputId": "7e07d853-4b1c-4295-ad3a-7bb5b8eec050"
      },
      "execution_count": 17,
      "outputs": [
        {
          "output_type": "stream",
          "name": "stdout",
          "text": [
            "0.08933739084512281\n"
          ]
        }
      ]
    },
    {
      "cell_type": "code",
      "source": [
        "##Summary of article sentiment analysis\n",
        "blob2 = TextBlob(textsum)\n",
        "sentiment2 = blob2.sentiment.polarity\n",
        "print(sentiment2)"
      ],
      "metadata": {
        "colab": {
          "base_uri": "https://localhost:8080/"
        },
        "id": "i0WjLY_4f5SX",
        "outputId": "6c145048-1add-4640-d22a-a0a8696dc39a"
      },
      "execution_count": 18,
      "outputs": [
        {
          "output_type": "stream",
          "name": "stdout",
          "text": [
            "0.14705627705627705\n"
          ]
        }
      ]
    },
    {
      "cell_type": "markdown",
      "source": [
        "As we can see from the scores above, my hypothesis was correct. The summary score is more than one and a half times the full length score on the positive side of the sentiment analysis scale. "
      ],
      "metadata": {
        "id": "nlQKM6iBp66v"
      }
    },
    {
      "cell_type": "markdown",
      "source": [
        "Trying the above with a recent Pew report about global sentiment, both on the report itself and the question. Note: the question was asked in over thirty countries, and ostensibly localized, as such we don't have those questions for our analysis. Examining the sentiment of the phrasing of the question in each of the target languages is beyond the scope of this project. "
      ],
      "metadata": {
        "id": "tI4WfLyllyqE"
      }
    },
    {
      "cell_type": "code",
      "source": [
        "##Loading the URL and converting it into an Article object\n",
        "pew_url = 'https://www.pewresearch.org/global/2017/12/05/worldwide-people-divided-on-whether-life-today-is-better-than-in-the-past/'\n",
        "pew_article = Article(pew_url)"
      ],
      "metadata": {
        "id": "v1-n9p_zi759"
      },
      "execution_count": 19,
      "outputs": []
    },
    {
      "cell_type": "code",
      "source": [
        "##Downloading and preprocessing the article\n",
        "pew_article.download()\n",
        "pew_article.parse()\n",
        "pew_article.nlp()"
      ],
      "metadata": {
        "id": "cs7UiESGjRsI"
      },
      "execution_count": 20,
      "outputs": []
    },
    {
      "cell_type": "code",
      "source": [
        "##Saving the article as a text object\n",
        "pew_text = pew_article.text"
      ],
      "metadata": {
        "id": "Qs9HGnUxjbky"
      },
      "execution_count": 21,
      "outputs": []
    },
    {
      "cell_type": "code",
      "source": [
        "##Setting up a second variable as a summary of the Pew article for later comparison\n",
        "pew_text_sum = pew_article.summary"
      ],
      "metadata": {
        "id": "2Rh9-k0dwxEg"
      },
      "execution_count": 27,
      "outputs": []
    },
    {
      "cell_type": "code",
      "source": [
        "##Running and printing our sentiment analysis FULL article\n",
        "pew_blob = TextBlob(pew_text)\n",
        "pew_sentiment = pew_blob.sentiment.polarity\n",
        "print(pew_sentiment)"
      ],
      "metadata": {
        "colab": {
          "base_uri": "https://localhost:8080/"
        },
        "id": "HaDSwYlPjjra",
        "outputId": "e8f696e8-23fe-4dba-a268-deb2d0ec6f80"
      },
      "execution_count": 22,
      "outputs": [
        {
          "output_type": "stream",
          "name": "stdout",
          "text": [
            "0.14013994194630036\n"
          ]
        }
      ]
    },
    {
      "cell_type": "code",
      "source": [
        "##Running and printing out sentiment analysis for the article summary\n",
        "pew_sum_blob = TextBlob(pew_text_sum)\n",
        "pew_sum_sentiment = pew_sum_blob.sentiment.polarity\n",
        "print(pew_sum_sentiment)"
      ],
      "metadata": {
        "colab": {
          "base_uri": "https://localhost:8080/"
        },
        "id": "kDZ0BIbnxHHE",
        "outputId": "81d98144-4d2d-4c27-b93a-eb23fa62d23e"
      },
      "execution_count": 28,
      "outputs": [
        {
          "output_type": "stream",
          "name": "stdout",
          "text": [
            "0.20666666666666667\n"
          ]
        }
      ]
    },
    {
      "cell_type": "code",
      "source": [
        "##Finally, we perform the same analysis on the question as asked in English -- Note: respondents were asked to fill in a blank\n",
        "pew_question = 'life in our country today is than it was 50 years ago for people like me'\n",
        "pqblob = TextBlob(pew_question)\n",
        "pq_sentiment = pqblob.sentiment.polarity\n",
        "print(pq_sentiment)"
      ],
      "metadata": {
        "colab": {
          "base_uri": "https://localhost:8080/"
        },
        "id": "gbawU08Yjzgk",
        "outputId": "a9395867-8408-43b7-ec2f-f6ede421b3f3"
      },
      "execution_count": 26,
      "outputs": [
        {
          "output_type": "stream",
          "name": "stdout",
          "text": [
            "0.0\n"
          ]
        }
      ]
    },
    {
      "cell_type": "code",
      "source": [
        "##Testing the question with a hypothetically positive response\n",
        "pew_question_pos = 'life in our country today is better than it was 50 years ago for people like me'\n",
        "pqposblob = TextBlob(pew_question_pos)\n",
        "pqpos_sentiment = pqposblob.sentiment.polarity\n",
        "print(pqpos_sentiment)"
      ],
      "metadata": {
        "colab": {
          "base_uri": "https://localhost:8080/"
        },
        "id": "mP_6RixkyHwv",
        "outputId": "82b0e492-f6e9-4c34-f0c6-721ceb416e7b"
      },
      "execution_count": 30,
      "outputs": [
        {
          "output_type": "stream",
          "name": "stdout",
          "text": [
            "0.5\n"
          ]
        }
      ]
    },
    {
      "cell_type": "code",
      "source": [
        "##Testing the question with a hypothetically negative response\n",
        "pew_question_neg = 'life in our country today is worse than it was 50 years ago for people like me'\n",
        "pqpnegblob = TextBlob(pew_question_neg)\n",
        "pqneg_sentiment = pqpnegblob.sentiment.polarity\n",
        "print(pqneg_sentiment)"
      ],
      "metadata": {
        "colab": {
          "base_uri": "https://localhost:8080/"
        },
        "id": "Ky8NCi5ByTEy",
        "outputId": "99c7a3d6-4d4c-4027-fb0d-6d4a6244ea44"
      },
      "execution_count": 34,
      "outputs": [
        {
          "output_type": "stream",
          "name": "stdout",
          "text": [
            "-0.4\n"
          ]
        }
      ]
    },
    {
      "cell_type": "code",
      "source": [
        "##Testing the question with a hypothetically neutral response\n",
        "pew_question_same = 'life in our country today is the same as it was 50 years ago for people like me'\n",
        "pqsameblob = TextBlob(pew_question_same)\n",
        "pqsame_sentiment = pqsameblob.sentiment.polarity\n",
        "print(pqsame_sentiment)"
      ],
      "metadata": {
        "colab": {
          "base_uri": "https://localhost:8080/"
        },
        "id": "7HdRYdkUzEbc",
        "outputId": "6f6f6a51-1187-4774-88f8-cfbe0d4f1537"
      },
      "execution_count": 37,
      "outputs": [
        {
          "output_type": "stream",
          "name": "stdout",
          "text": [
            "0.0\n"
          ]
        }
      ]
    },
    {
      "cell_type": "markdown",
      "source": [
        "Here we can see that the phrasing of the question does matter. Testing the hypothetical neutral question gave us the same score as the original question that did not feature any descriptive sentiment. A caveat would be that in asking an actual human the hypothetically neutral question, \"the same\" could refer to a lot of things, not simply the material experience of the citizens' group. \n",
        "\n",
        "Similarly to the test example, we see that the summary scores higher on the positive end of the sentiment scale than does the full length article. We also find that the sentiment in the report skews more positive than does the question itself. This probably does not betray a lack of objectivity as much as it reflects that for many countries there have been tremendous strides toward a better quality of life. It is important to note that of the top five, three were undergoing post-war reconstruction fifty years years ago and one, one was suffering domestic turmoil and has seen its fortunes improve with market reforms, and the fifth was mired in a war. As such, there was a great deal of room for improvement. \n",
        "\n",
        "As alluded to earlier, this project could be improved upon and expanded by looking at how the questions are phrased in each individual language. Not every language has a grammatical structure that is as modular as English. As such, the ordering of options (e.g., \"Better,\" \"The Same,\" or \"Worse\") could bias responses by priming the individuals being interviewed. It is almost certain the Pew takes these factors into account, but for other start-up organizations looking to gauge public opinion, these dynamics will need to be considered. Consultations with linguists and native speakers would do well in aiding in this process. \n",
        "\n",
        "Finally, this is not an especially sophisticated NLP library. More advanced models will likely have a more granular view of sentiment and dig out greater insights, but for our simple purposes here, it suffices. "
      ],
      "metadata": {
        "id": "w1soE2GXxmPb"
      }
    }
  ]
}